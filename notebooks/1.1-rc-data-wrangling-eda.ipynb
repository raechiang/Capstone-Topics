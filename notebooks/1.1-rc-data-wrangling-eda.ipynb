{
 "cells": [
  {
   "cell_type": "markdown",
   "id": "dd05809c",
   "metadata": {},
   "source": [
    "# Data Wrangling & EDA"
   ]
  },
  {
   "cell_type": "markdown",
   "id": "680c28a7",
   "metadata": {},
   "source": [
    "## 1 Table of Contents"
   ]
  },
  {
   "cell_type": "markdown",
   "id": "02f31f23",
   "metadata": {},
   "source": [
    "- [1 Table of Contents](#1-Table-of-Contents)\n",
    "- [2 Introduction](#2-Introduction)\n",
    "- [3 Setup](#3-Setup)\n",
    "- [4 Data Verification](#4-Data-Verification)\n",
    "- [5 Distributions](#5-Distributions)\n",
    "  - [5.1 Labels](#5.1-Labels)\n",
    "  - [5.2 Words](#5.2-Words)\n",
    "- [6 Cleaning and Preprocessing the Text](#6-Cleaning-and-Preprocessing-the-Text)\n",
    "  - [6.1 Common Words](#6.1-Common-Words)\n",
    "\n",
    "TODO"
   ]
  },
  {
   "cell_type": "markdown",
   "id": "07e15e41",
   "metadata": {},
   "source": [
    "## 2 Introduction"
   ]
  },
  {
   "cell_type": "markdown",
   "id": "2395997c",
   "metadata": {},
   "source": [
    "TODO"
   ]
  },
  {
   "cell_type": "markdown",
   "id": "babb2d80",
   "metadata": {},
   "source": [
    "## 3 Setup"
   ]
  },
  {
   "cell_type": "code",
   "execution_count": 1,
   "id": "a935cb74",
   "metadata": {},
   "outputs": [],
   "source": [
    "import pandas as pd\n",
    "import matplotlib.pyplot as plt\n",
    "import numpy as np\n",
    "from gensim.utils import simple_preprocess\n",
    "from nltk.corpus import stopwords\n",
    "from nltk.stem import WordNetLemmatizer\n",
    "import time\n",
    "from collections import Counter"
   ]
  },
  {
   "cell_type": "code",
   "execution_count": 2,
   "id": "b13dfb90",
   "metadata": {},
   "outputs": [
    {
     "name": "stdout",
     "output_type": "stream",
     "text": [
      "Train shape:  (20972, 9)\n",
      "Test shape:  (8989, 3)\n"
     ]
    }
   ],
   "source": [
    "train_df = pd.read_csv(\"../data/raw/train.csv\")\n",
    "print(\"Train shape: \", train_df.shape)\n",
    "test_df = pd.read_csv(\"../data/raw/test.csv\")\n",
    "print(\"Test shape: \", test_df.shape)"
   ]
  },
  {
   "cell_type": "code",
   "execution_count": 3,
   "id": "daba1d11",
   "metadata": {},
   "outputs": [
    {
     "name": "stdout",
     "output_type": "stream",
     "text": [
      "<class 'pandas.core.frame.DataFrame'>\n",
      "RangeIndex: 20972 entries, 0 to 20971\n",
      "Data columns (total 9 columns):\n",
      " #   Column                Non-Null Count  Dtype \n",
      "---  ------                --------------  ----- \n",
      " 0   ID                    20972 non-null  int64 \n",
      " 1   TITLE                 20972 non-null  object\n",
      " 2   ABSTRACT              20972 non-null  object\n",
      " 3   Computer Science      20972 non-null  int64 \n",
      " 4   Physics               20972 non-null  int64 \n",
      " 5   Mathematics           20972 non-null  int64 \n",
      " 6   Statistics            20972 non-null  int64 \n",
      " 7   Quantitative Biology  20972 non-null  int64 \n",
      " 8   Quantitative Finance  20972 non-null  int64 \n",
      "dtypes: int64(7), object(2)\n",
      "memory usage: 1.4+ MB\n"
     ]
    }
   ],
   "source": [
    "train_df.info()"
   ]
  },
  {
   "cell_type": "code",
   "execution_count": 4,
   "id": "078138f8",
   "metadata": {},
   "outputs": [
    {
     "data": {
      "text/html": [
       "<div>\n",
       "<style scoped>\n",
       "    .dataframe tbody tr th:only-of-type {\n",
       "        vertical-align: middle;\n",
       "    }\n",
       "\n",
       "    .dataframe tbody tr th {\n",
       "        vertical-align: top;\n",
       "    }\n",
       "\n",
       "    .dataframe thead th {\n",
       "        text-align: right;\n",
       "    }\n",
       "</style>\n",
       "<table border=\"1\" class=\"dataframe\">\n",
       "  <thead>\n",
       "    <tr style=\"text-align: right;\">\n",
       "      <th></th>\n",
       "      <th>ID</th>\n",
       "      <th>TITLE</th>\n",
       "      <th>ABSTRACT</th>\n",
       "      <th>Computer Science</th>\n",
       "      <th>Physics</th>\n",
       "      <th>Mathematics</th>\n",
       "      <th>Statistics</th>\n",
       "      <th>Quantitative Biology</th>\n",
       "      <th>Quantitative Finance</th>\n",
       "    </tr>\n",
       "  </thead>\n",
       "  <tbody>\n",
       "    <tr>\n",
       "      <th>0</th>\n",
       "      <td>1</td>\n",
       "      <td>Reconstructing Subject-Specific Effect Maps</td>\n",
       "      <td>Predictive models allow subject-specific inf...</td>\n",
       "      <td>1</td>\n",
       "      <td>0</td>\n",
       "      <td>0</td>\n",
       "      <td>0</td>\n",
       "      <td>0</td>\n",
       "      <td>0</td>\n",
       "    </tr>\n",
       "    <tr>\n",
       "      <th>1</th>\n",
       "      <td>2</td>\n",
       "      <td>Rotation Invariance Neural Network</td>\n",
       "      <td>Rotation invariance and translation invarian...</td>\n",
       "      <td>1</td>\n",
       "      <td>0</td>\n",
       "      <td>0</td>\n",
       "      <td>0</td>\n",
       "      <td>0</td>\n",
       "      <td>0</td>\n",
       "    </tr>\n",
       "    <tr>\n",
       "      <th>2</th>\n",
       "      <td>3</td>\n",
       "      <td>Spherical polyharmonics and Poisson kernels fo...</td>\n",
       "      <td>We introduce and develop the notion of spher...</td>\n",
       "      <td>0</td>\n",
       "      <td>0</td>\n",
       "      <td>1</td>\n",
       "      <td>0</td>\n",
       "      <td>0</td>\n",
       "      <td>0</td>\n",
       "    </tr>\n",
       "    <tr>\n",
       "      <th>3</th>\n",
       "      <td>4</td>\n",
       "      <td>A finite element approximation for the stochas...</td>\n",
       "      <td>The stochastic Landau--Lifshitz--Gilbert (LL...</td>\n",
       "      <td>0</td>\n",
       "      <td>0</td>\n",
       "      <td>1</td>\n",
       "      <td>0</td>\n",
       "      <td>0</td>\n",
       "      <td>0</td>\n",
       "    </tr>\n",
       "    <tr>\n",
       "      <th>4</th>\n",
       "      <td>5</td>\n",
       "      <td>Comparative study of Discrete Wavelet Transfor...</td>\n",
       "      <td>Fourier-transform infra-red (FTIR) spectra o...</td>\n",
       "      <td>1</td>\n",
       "      <td>0</td>\n",
       "      <td>0</td>\n",
       "      <td>1</td>\n",
       "      <td>0</td>\n",
       "      <td>0</td>\n",
       "    </tr>\n",
       "  </tbody>\n",
       "</table>\n",
       "</div>"
      ],
      "text/plain": [
       "   ID                                              TITLE  \\\n",
       "0   1        Reconstructing Subject-Specific Effect Maps   \n",
       "1   2                 Rotation Invariance Neural Network   \n",
       "2   3  Spherical polyharmonics and Poisson kernels fo...   \n",
       "3   4  A finite element approximation for the stochas...   \n",
       "4   5  Comparative study of Discrete Wavelet Transfor...   \n",
       "\n",
       "                                            ABSTRACT  Computer Science  \\\n",
       "0    Predictive models allow subject-specific inf...                 1   \n",
       "1    Rotation invariance and translation invarian...                 1   \n",
       "2    We introduce and develop the notion of spher...                 0   \n",
       "3    The stochastic Landau--Lifshitz--Gilbert (LL...                 0   \n",
       "4    Fourier-transform infra-red (FTIR) spectra o...                 1   \n",
       "\n",
       "   Physics  Mathematics  Statistics  Quantitative Biology  \\\n",
       "0        0            0           0                     0   \n",
       "1        0            0           0                     0   \n",
       "2        0            1           0                     0   \n",
       "3        0            1           0                     0   \n",
       "4        0            0           1                     0   \n",
       "\n",
       "   Quantitative Finance  \n",
       "0                     0  \n",
       "1                     0  \n",
       "2                     0  \n",
       "3                     0  \n",
       "4                     0  "
      ]
     },
     "execution_count": 4,
     "metadata": {},
     "output_type": "execute_result"
    }
   ],
   "source": [
    "train_df.head()"
   ]
  },
  {
   "cell_type": "code",
   "execution_count": 5,
   "id": "b59833b3",
   "metadata": {},
   "outputs": [
    {
     "name": "stdout",
     "output_type": "stream",
     "text": [
      "<class 'pandas.core.frame.DataFrame'>\n",
      "RangeIndex: 8989 entries, 0 to 8988\n",
      "Data columns (total 3 columns):\n",
      " #   Column    Non-Null Count  Dtype \n",
      "---  ------    --------------  ----- \n",
      " 0   ID        8989 non-null   int64 \n",
      " 1   TITLE     8989 non-null   object\n",
      " 2   ABSTRACT  8989 non-null   object\n",
      "dtypes: int64(1), object(2)\n",
      "memory usage: 210.8+ KB\n"
     ]
    }
   ],
   "source": [
    "test_df.info()"
   ]
  },
  {
   "cell_type": "code",
   "execution_count": 6,
   "id": "dd56998a",
   "metadata": {},
   "outputs": [
    {
     "data": {
      "text/html": [
       "<div>\n",
       "<style scoped>\n",
       "    .dataframe tbody tr th:only-of-type {\n",
       "        vertical-align: middle;\n",
       "    }\n",
       "\n",
       "    .dataframe tbody tr th {\n",
       "        vertical-align: top;\n",
       "    }\n",
       "\n",
       "    .dataframe thead th {\n",
       "        text-align: right;\n",
       "    }\n",
       "</style>\n",
       "<table border=\"1\" class=\"dataframe\">\n",
       "  <thead>\n",
       "    <tr style=\"text-align: right;\">\n",
       "      <th></th>\n",
       "      <th>ID</th>\n",
       "      <th>TITLE</th>\n",
       "      <th>ABSTRACT</th>\n",
       "    </tr>\n",
       "  </thead>\n",
       "  <tbody>\n",
       "    <tr>\n",
       "      <th>0</th>\n",
       "      <td>20973</td>\n",
       "      <td>Closed-form Marginal Likelihood in Gamma-Poiss...</td>\n",
       "      <td>We present novel understandings of the Gamma...</td>\n",
       "    </tr>\n",
       "    <tr>\n",
       "      <th>1</th>\n",
       "      <td>20974</td>\n",
       "      <td>Laboratory mid-IR spectra of equilibrated and ...</td>\n",
       "      <td>Meteorites contain minerals from Solar Syste...</td>\n",
       "    </tr>\n",
       "    <tr>\n",
       "      <th>2</th>\n",
       "      <td>20975</td>\n",
       "      <td>Case For Static AMSDU Aggregation in WLANs</td>\n",
       "      <td>Frame aggregation is a mechanism by which mu...</td>\n",
       "    </tr>\n",
       "    <tr>\n",
       "      <th>3</th>\n",
       "      <td>20976</td>\n",
       "      <td>The $Gaia$-ESO Survey: the inner disk intermed...</td>\n",
       "      <td>Milky Way open clusters are very diverse in ...</td>\n",
       "    </tr>\n",
       "    <tr>\n",
       "      <th>4</th>\n",
       "      <td>20977</td>\n",
       "      <td>Witness-Functions versus Interpretation-Functi...</td>\n",
       "      <td>Proving that a cryptographic protocol is cor...</td>\n",
       "    </tr>\n",
       "  </tbody>\n",
       "</table>\n",
       "</div>"
      ],
      "text/plain": [
       "      ID                                              TITLE  \\\n",
       "0  20973  Closed-form Marginal Likelihood in Gamma-Poiss...   \n",
       "1  20974  Laboratory mid-IR spectra of equilibrated and ...   \n",
       "2  20975         Case For Static AMSDU Aggregation in WLANs   \n",
       "3  20976  The $Gaia$-ESO Survey: the inner disk intermed...   \n",
       "4  20977  Witness-Functions versus Interpretation-Functi...   \n",
       "\n",
       "                                            ABSTRACT  \n",
       "0    We present novel understandings of the Gamma...  \n",
       "1    Meteorites contain minerals from Solar Syste...  \n",
       "2    Frame aggregation is a mechanism by which mu...  \n",
       "3    Milky Way open clusters are very diverse in ...  \n",
       "4    Proving that a cryptographic protocol is cor...  "
      ]
     },
     "execution_count": 6,
     "metadata": {},
     "output_type": "execute_result"
    }
   ],
   "source": [
    "test_df.head()"
   ]
  },
  {
   "cell_type": "markdown",
   "id": "bd10d2cc",
   "metadata": {},
   "source": [
    "## 4 Data Verification"
   ]
  },
  {
   "cell_type": "markdown",
   "id": "ff4c58d7",
   "metadata": {},
   "source": [
    "After loading the data, we will check if the data looks okay. There should be no missing values, and the dataframes should be populated by reasonable values."
   ]
  },
  {
   "cell_type": "code",
   "execution_count": 7,
   "id": "69b0097e",
   "metadata": {},
   "outputs": [
    {
     "data": {
      "text/plain": [
       "True"
      ]
     },
     "execution_count": 7,
     "metadata": {},
     "output_type": "execute_result"
    }
   ],
   "source": [
    "train_df['ID'].is_unique & train_df['TITLE'].is_unique & train_df['ABSTRACT'].is_unique"
   ]
  },
  {
   "cell_type": "code",
   "execution_count": 8,
   "id": "858e7b54",
   "metadata": {},
   "outputs": [
    {
     "data": {
      "text/html": [
       "<div>\n",
       "<style scoped>\n",
       "    .dataframe tbody tr th:only-of-type {\n",
       "        vertical-align: middle;\n",
       "    }\n",
       "\n",
       "    .dataframe tbody tr th {\n",
       "        vertical-align: top;\n",
       "    }\n",
       "\n",
       "    .dataframe thead th {\n",
       "        text-align: right;\n",
       "    }\n",
       "</style>\n",
       "<table border=\"1\" class=\"dataframe\">\n",
       "  <thead>\n",
       "    <tr style=\"text-align: right;\">\n",
       "      <th></th>\n",
       "      <th>ID</th>\n",
       "      <th>Computer Science</th>\n",
       "      <th>Physics</th>\n",
       "      <th>Mathematics</th>\n",
       "      <th>Statistics</th>\n",
       "      <th>Quantitative Biology</th>\n",
       "      <th>Quantitative Finance</th>\n",
       "    </tr>\n",
       "  </thead>\n",
       "  <tbody>\n",
       "    <tr>\n",
       "      <th>count</th>\n",
       "      <td>20972.000000</td>\n",
       "      <td>20972.000000</td>\n",
       "      <td>20972.000000</td>\n",
       "      <td>20972.000000</td>\n",
       "      <td>20972.000000</td>\n",
       "      <td>20972.000000</td>\n",
       "      <td>20972.000000</td>\n",
       "    </tr>\n",
       "    <tr>\n",
       "      <th>mean</th>\n",
       "      <td>10486.500000</td>\n",
       "      <td>0.409784</td>\n",
       "      <td>0.286716</td>\n",
       "      <td>0.267881</td>\n",
       "      <td>0.248236</td>\n",
       "      <td>0.027990</td>\n",
       "      <td>0.011873</td>\n",
       "    </tr>\n",
       "    <tr>\n",
       "      <th>std</th>\n",
       "      <td>6054.239259</td>\n",
       "      <td>0.491806</td>\n",
       "      <td>0.452238</td>\n",
       "      <td>0.442866</td>\n",
       "      <td>0.432000</td>\n",
       "      <td>0.164947</td>\n",
       "      <td>0.108317</td>\n",
       "    </tr>\n",
       "    <tr>\n",
       "      <th>min</th>\n",
       "      <td>1.000000</td>\n",
       "      <td>0.000000</td>\n",
       "      <td>0.000000</td>\n",
       "      <td>0.000000</td>\n",
       "      <td>0.000000</td>\n",
       "      <td>0.000000</td>\n",
       "      <td>0.000000</td>\n",
       "    </tr>\n",
       "    <tr>\n",
       "      <th>25%</th>\n",
       "      <td>5243.750000</td>\n",
       "      <td>0.000000</td>\n",
       "      <td>0.000000</td>\n",
       "      <td>0.000000</td>\n",
       "      <td>0.000000</td>\n",
       "      <td>0.000000</td>\n",
       "      <td>0.000000</td>\n",
       "    </tr>\n",
       "    <tr>\n",
       "      <th>50%</th>\n",
       "      <td>10486.500000</td>\n",
       "      <td>0.000000</td>\n",
       "      <td>0.000000</td>\n",
       "      <td>0.000000</td>\n",
       "      <td>0.000000</td>\n",
       "      <td>0.000000</td>\n",
       "      <td>0.000000</td>\n",
       "    </tr>\n",
       "    <tr>\n",
       "      <th>75%</th>\n",
       "      <td>15729.250000</td>\n",
       "      <td>1.000000</td>\n",
       "      <td>1.000000</td>\n",
       "      <td>1.000000</td>\n",
       "      <td>0.000000</td>\n",
       "      <td>0.000000</td>\n",
       "      <td>0.000000</td>\n",
       "    </tr>\n",
       "    <tr>\n",
       "      <th>max</th>\n",
       "      <td>20972.000000</td>\n",
       "      <td>1.000000</td>\n",
       "      <td>1.000000</td>\n",
       "      <td>1.000000</td>\n",
       "      <td>1.000000</td>\n",
       "      <td>1.000000</td>\n",
       "      <td>1.000000</td>\n",
       "    </tr>\n",
       "  </tbody>\n",
       "</table>\n",
       "</div>"
      ],
      "text/plain": [
       "                 ID  Computer Science       Physics   Mathematics  \\\n",
       "count  20972.000000      20972.000000  20972.000000  20972.000000   \n",
       "mean   10486.500000          0.409784      0.286716      0.267881   \n",
       "std     6054.239259          0.491806      0.452238      0.442866   \n",
       "min        1.000000          0.000000      0.000000      0.000000   \n",
       "25%     5243.750000          0.000000      0.000000      0.000000   \n",
       "50%    10486.500000          0.000000      0.000000      0.000000   \n",
       "75%    15729.250000          1.000000      1.000000      1.000000   \n",
       "max    20972.000000          1.000000      1.000000      1.000000   \n",
       "\n",
       "         Statistics  Quantitative Biology  Quantitative Finance  \n",
       "count  20972.000000          20972.000000          20972.000000  \n",
       "mean       0.248236              0.027990              0.011873  \n",
       "std        0.432000              0.164947              0.108317  \n",
       "min        0.000000              0.000000              0.000000  \n",
       "25%        0.000000              0.000000              0.000000  \n",
       "50%        0.000000              0.000000              0.000000  \n",
       "75%        0.000000              0.000000              0.000000  \n",
       "max        1.000000              1.000000              1.000000  "
      ]
     },
     "execution_count": 8,
     "metadata": {},
     "output_type": "execute_result"
    }
   ],
   "source": [
    "train_df.describe()"
   ]
  },
  {
   "cell_type": "code",
   "execution_count": 9,
   "id": "f8b8d8a8",
   "metadata": {},
   "outputs": [
    {
     "name": "stdout",
     "output_type": "stream",
     "text": [
      "0    12378\n",
      "1     8594\n",
      "Name: Computer Science, dtype: int64\n",
      "0    14959\n",
      "1     6013\n",
      "Name: Physics, dtype: int64\n",
      "0    15354\n",
      "1     5618\n",
      "Name: Mathematics, dtype: int64\n",
      "0    15766\n",
      "1     5206\n",
      "Name: Statistics, dtype: int64\n",
      "0    20385\n",
      "1      587\n",
      "Name: Quantitative Biology, dtype: int64\n",
      "0    20723\n",
      "1      249\n",
      "Name: Quantitative Finance, dtype: int64\n"
     ]
    }
   ],
   "source": [
    "for c in train_df.columns[3:]:\n",
    "    print(train_df[c].value_counts())"
   ]
  },
  {
   "cell_type": "markdown",
   "id": "4c882ee9",
   "metadata": {},
   "source": [
    "The numeric columns make sense, and most importantly, the topic columns contain only 0 and 1."
   ]
  },
  {
   "cell_type": "markdown",
   "id": "2647a990",
   "metadata": {},
   "source": [
    "We saw earlier that the `shape` attribute of the `test_df` was different from the `train_df` in that it had six fewer columns, so \"test.csv\" likely does not have labels. The information provided from the `test_df` can still be used, so we will give its data a cursory check as well."
   ]
  },
  {
   "cell_type": "code",
   "execution_count": 10,
   "id": "35bc22cd",
   "metadata": {},
   "outputs": [
    {
     "data": {
      "text/plain": [
       "True"
      ]
     },
     "execution_count": 10,
     "metadata": {},
     "output_type": "execute_result"
    }
   ],
   "source": [
    "test_df['ID'].is_unique & test_df['TITLE'].is_unique & test_df['ABSTRACT'].is_unique"
   ]
  },
  {
   "cell_type": "markdown",
   "id": "97c01a06",
   "metadata": {},
   "source": [
    "## 5 Distributions"
   ]
  },
  {
   "cell_type": "markdown",
   "id": "4934166b",
   "metadata": {},
   "source": [
    "### 5.1 Labels"
   ]
  },
  {
   "cell_type": "markdown",
   "id": "2260eae4",
   "metadata": {},
   "source": [
    "Let's check the label distributions."
   ]
  },
  {
   "cell_type": "code",
   "execution_count": 11,
   "id": "bbb4a1b8",
   "metadata": {},
   "outputs": [],
   "source": [
    "# The `labels` list will hold the names of the topics\n",
    "labels = train_df.columns[3:]"
   ]
  },
  {
   "cell_type": "code",
   "execution_count": 12,
   "id": "4ef0b390",
   "metadata": {},
   "outputs": [],
   "source": [
    "def count_labels(labels, df, print_counts=True):\n",
    "    \"\"\"\n",
    "    Counts the number of articles marked with a label.\n",
    "    \n",
    "    labels : A list of column names.\n",
    "    df : The DataFrame of articles with labels to count.\n",
    "    print_counts : If set to true, it will print the labels and their occurrences.\n",
    "    \"\"\"\n",
    "    label_count = []\n",
    "    for label in labels:\n",
    "        label_sum = df[label].sum()\n",
    "        label_count.append(label_sum)\n",
    "        if (print_counts):\n",
    "            print(\"{} articles tagged with {}\".format(label_sum, label))\n",
    "    return label_count\n",
    "\n",
    "def plot_topic_labels(labels, label_count):\n",
    "    \"\"\"\n",
    "    Plots a bar chart for the label counts.\n",
    "    \n",
    "    labels : A list of the names of the labels\n",
    "    label_count : A list of occurrences corresponding to the labels\n",
    "    \"\"\"\n",
    "    _ = plt.figure(figsize=(15,5))\n",
    "    _ = plt.title(\"Number of articles per topic\")\n",
    "    _ = plt.bar(labels, label_count)"
   ]
  },
  {
   "cell_type": "markdown",
   "id": "af38c3b9",
   "metadata": {},
   "source": [
    "(Admittedly, defining something like `count_labels()` could be forgone.)"
   ]
  },
  {
   "cell_type": "code",
   "execution_count": 13,
   "id": "12c4c4c8",
   "metadata": {},
   "outputs": [
    {
     "name": "stdout",
     "output_type": "stream",
     "text": [
      "8594 articles tagged with Computer Science\n",
      "6013 articles tagged with Physics\n",
      "5618 articles tagged with Mathematics\n",
      "5206 articles tagged with Statistics\n",
      "587 articles tagged with Quantitative Biology\n",
      "249 articles tagged with Quantitative Finance\n"
     ]
    },
    {
     "data": {
      "image/png": "[encoded data removed]",
      "text/plain": [
       "<Figure size 1500x500 with 1 Axes>"
      ]
     },
     "metadata": {},
     "output_type": "display_data"
    }
   ],
   "source": [
    "labels_per_topic = count_labels(labels, train_df)\n",
    "plot_topic_labels(labels, labels_per_topic)"
   ]
  },
  {
   "cell_type": "markdown",
   "id": "38b33909",
   "metadata": {},
   "source": [
    "The classes are imbalanced, with 'Quantitative Biology' and 'Quantitative Finance' having relatively few articles tagged with those topics. Meanwhile, a lot of articles were marked with 'Computer Science'."
   ]
  },
  {
   "cell_type": "markdown",
   "id": "4ee2b2ad",
   "metadata": {},
   "source": [
    "The articles could be labeled with more than one topic, so we will also check how these multi-topic articles are distributed."
   ]
  },
  {
   "cell_type": "code",
   "execution_count": 14,
   "id": "e409d323",
   "metadata": {},
   "outputs": [
    {
     "name": "stdout",
     "output_type": "stream",
     "text": [
      "Number of total tags: 26267\n"
     ]
    }
   ],
   "source": [
    "print(\"Number of total tags: {}\".format(np.sum(labels_per_topic)))"
   ]
  },
  {
   "cell_type": "markdown",
   "id": "9689f958",
   "metadata": {},
   "source": [
    "There are 5,295 more labels than there are articles, so about 25% of the labels were given to articles that already have at least one label."
   ]
  },
  {
   "cell_type": "code",
   "execution_count": 15,
   "id": "b4bf058f",
   "metadata": {},
   "outputs": [
    {
     "name": "stdout",
     "output_type": "stream",
     "text": [
      "Number of articles with n labels:\n",
      "1    15928\n",
      "2     4793\n",
      "3      251\n",
      "dtype: int64\n"
     ]
    }
   ],
   "source": [
    "num_nlabels = train_df.iloc[:,3:].aggregate(np.sum, axis=1).value_counts()\n",
    "print(\"Number of articles with n labels:\")\n",
    "print(num_nlabels)"
   ]
  },
  {
   "cell_type": "markdown",
   "id": "5a21c894",
   "metadata": {},
   "source": [
    "A little over 1% of articles are marked with three topics, about 23% are marked with two topics, and the remaining 76% have only one topic."
   ]
  },
  {
   "cell_type": "code",
   "execution_count": 16,
   "id": "d64ad9fd",
   "metadata": {},
   "outputs": [
    {
     "data": {
      "image/png": "[encoded data removed]",
      "text/plain": [
       "<Figure size 640x480 with 1 Axes>"
      ]
     },
     "metadata": {},
     "output_type": "display_data"
    }
   ],
   "source": [
    "_ = plt.title(\"Number of articles with 1, 2, or 3 topics\")\n",
    "_ = plt.bar(num_nlabels.index, num_nlabels.values)"
   ]
  },
  {
   "cell_type": "markdown",
   "id": "3f00455e",
   "metadata": {},
   "source": [
    "### 5.2 Words"
   ]
  },
  {
   "cell_type": "markdown",
   "id": "108295db",
   "metadata": {},
   "source": [
    "The text data is not cleaned yet, but we can approximate the word counts."
   ]
  },
  {
   "cell_type": "code",
   "execution_count": 17,
   "id": "13506067",
   "metadata": {},
   "outputs": [
    {
     "data": {
      "text/html": [
       "<div>\n",
       "<style scoped>\n",
       "    .dataframe tbody tr th:only-of-type {\n",
       "        vertical-align: middle;\n",
       "    }\n",
       "\n",
       "    .dataframe tbody tr th {\n",
       "        vertical-align: top;\n",
       "    }\n",
       "\n",
       "    .dataframe thead th {\n",
       "        text-align: right;\n",
       "    }\n",
       "</style>\n",
       "<table border=\"1\" class=\"dataframe\">\n",
       "  <thead>\n",
       "    <tr style=\"text-align: right;\">\n",
       "      <th></th>\n",
       "      <th>ID</th>\n",
       "      <th>TITLE</th>\n",
       "      <th>ABSTRACT</th>\n",
       "      <th>Computer Science</th>\n",
       "      <th>Physics</th>\n",
       "      <th>Mathematics</th>\n",
       "      <th>Statistics</th>\n",
       "      <th>Quantitative Biology</th>\n",
       "      <th>Quantitative Finance</th>\n",
       "      <th>title_abstract</th>\n",
       "    </tr>\n",
       "  </thead>\n",
       "  <tbody>\n",
       "    <tr>\n",
       "      <th>0</th>\n",
       "      <td>1</td>\n",
       "      <td>Reconstructing Subject-Specific Effect Maps</td>\n",
       "      <td>Predictive models allow subject-specific inf...</td>\n",
       "      <td>1</td>\n",
       "      <td>0</td>\n",
       "      <td>0</td>\n",
       "      <td>0</td>\n",
       "      <td>0</td>\n",
       "      <td>0</td>\n",
       "      <td>Reconstructing Subject-Specific Effect Maps  P...</td>\n",
       "    </tr>\n",
       "    <tr>\n",
       "      <th>1</th>\n",
       "      <td>2</td>\n",
       "      <td>Rotation Invariance Neural Network</td>\n",
       "      <td>Rotation invariance and translation invarian...</td>\n",
       "      <td>1</td>\n",
       "      <td>0</td>\n",
       "      <td>0</td>\n",
       "      <td>0</td>\n",
       "      <td>0</td>\n",
       "      <td>0</td>\n",
       "      <td>Rotation Invariance Neural Network  Rotation i...</td>\n",
       "    </tr>\n",
       "    <tr>\n",
       "      <th>2</th>\n",
       "      <td>3</td>\n",
       "      <td>Spherical polyharmonics and Poisson kernels fo...</td>\n",
       "      <td>We introduce and develop the notion of spher...</td>\n",
       "      <td>0</td>\n",
       "      <td>0</td>\n",
       "      <td>1</td>\n",
       "      <td>0</td>\n",
       "      <td>0</td>\n",
       "      <td>0</td>\n",
       "      <td>Spherical polyharmonics and Poisson kernels fo...</td>\n",
       "    </tr>\n",
       "  </tbody>\n",
       "</table>\n",
       "</div>"
      ],
      "text/plain": [
       "   ID                                              TITLE  \\\n",
       "0   1        Reconstructing Subject-Specific Effect Maps   \n",
       "1   2                 Rotation Invariance Neural Network   \n",
       "2   3  Spherical polyharmonics and Poisson kernels fo...   \n",
       "\n",
       "                                            ABSTRACT  Computer Science  \\\n",
       "0    Predictive models allow subject-specific inf...                 1   \n",
       "1    Rotation invariance and translation invarian...                 1   \n",
       "2    We introduce and develop the notion of spher...                 0   \n",
       "\n",
       "   Physics  Mathematics  Statistics  Quantitative Biology  \\\n",
       "0        0            0           0                     0   \n",
       "1        0            0           0                     0   \n",
       "2        0            1           0                     0   \n",
       "\n",
       "   Quantitative Finance                                     title_abstract  \n",
       "0                     0  Reconstructing Subject-Specific Effect Maps  P...  \n",
       "1                     0  Rotation Invariance Neural Network  Rotation i...  \n",
       "2                     0  Spherical polyharmonics and Poisson kernels fo...  "
      ]
     },
     "execution_count": 17,
     "metadata": {},
     "output_type": "execute_result"
    }
   ],
   "source": [
    "train_df['title_abstract'] = train_df['TITLE'] + train_df['ABSTRACT']\n",
    "train_df.head(3)"
   ]
  },
  {
   "cell_type": "code",
   "execution_count": 18,
   "id": "80bf1208",
   "metadata": {},
   "outputs": [
    {
     "data": {
      "text/html": [
       "<div>\n",
       "<style scoped>\n",
       "    .dataframe tbody tr th:only-of-type {\n",
       "        vertical-align: middle;\n",
       "    }\n",
       "\n",
       "    .dataframe tbody tr th {\n",
       "        vertical-align: top;\n",
       "    }\n",
       "\n",
       "    .dataframe thead th {\n",
       "        text-align: right;\n",
       "    }\n",
       "</style>\n",
       "<table border=\"1\" class=\"dataframe\">\n",
       "  <thead>\n",
       "    <tr style=\"text-align: right;\">\n",
       "      <th></th>\n",
       "      <th>ID</th>\n",
       "      <th>TITLE</th>\n",
       "      <th>ABSTRACT</th>\n",
       "      <th>title_abstract</th>\n",
       "    </tr>\n",
       "  </thead>\n",
       "  <tbody>\n",
       "    <tr>\n",
       "      <th>0</th>\n",
       "      <td>20973</td>\n",
       "      <td>Closed-form Marginal Likelihood in Gamma-Poiss...</td>\n",
       "      <td>We present novel understandings of the Gamma...</td>\n",
       "      <td>Closed-form Marginal Likelihood in Gamma-Poiss...</td>\n",
       "    </tr>\n",
       "    <tr>\n",
       "      <th>1</th>\n",
       "      <td>20974</td>\n",
       "      <td>Laboratory mid-IR spectra of equilibrated and ...</td>\n",
       "      <td>Meteorites contain minerals from Solar Syste...</td>\n",
       "      <td>Laboratory mid-IR spectra of equilibrated and ...</td>\n",
       "    </tr>\n",
       "    <tr>\n",
       "      <th>2</th>\n",
       "      <td>20975</td>\n",
       "      <td>Case For Static AMSDU Aggregation in WLANs</td>\n",
       "      <td>Frame aggregation is a mechanism by which mu...</td>\n",
       "      <td>Case For Static AMSDU Aggregation in WLANs  Fr...</td>\n",
       "    </tr>\n",
       "  </tbody>\n",
       "</table>\n",
       "</div>"
      ],
      "text/plain": [
       "      ID                                              TITLE  \\\n",
       "0  20973  Closed-form Marginal Likelihood in Gamma-Poiss...   \n",
       "1  20974  Laboratory mid-IR spectra of equilibrated and ...   \n",
       "2  20975         Case For Static AMSDU Aggregation in WLANs   \n",
       "\n",
       "                                            ABSTRACT  \\\n",
       "0    We present novel understandings of the Gamma...   \n",
       "1    Meteorites contain minerals from Solar Syste...   \n",
       "2    Frame aggregation is a mechanism by which mu...   \n",
       "\n",
       "                                      title_abstract  \n",
       "0  Closed-form Marginal Likelihood in Gamma-Poiss...  \n",
       "1  Laboratory mid-IR spectra of equilibrated and ...  \n",
       "2  Case For Static AMSDU Aggregation in WLANs  Fr...  "
      ]
     },
     "execution_count": 18,
     "metadata": {},
     "output_type": "execute_result"
    }
   ],
   "source": [
    "test_df['title_abstract'] = test_df['TITLE'] + test_df['ABSTRACT']\n",
    "test_df.head(3)"
   ]
  },
  {
   "cell_type": "code",
   "execution_count": 19,
   "id": "f8f97195",
   "metadata": {},
   "outputs": [],
   "source": [
    "import re"
   ]
  },
  {
   "cell_type": "code",
   "execution_count": 20,
   "id": "5985abcb",
   "metadata": {},
   "outputs": [],
   "source": [
    "train_df['wps'] = train_df.apply(lambda x: len(re.findall(r'\\w+', x['title_abstract'])), axis=1)\n",
    "test_df['wps'] = test_df.apply(lambda x: len(re.findall(r'\\w+', x['title_abstract'])), axis=1)"
   ]
  },
  {
   "cell_type": "code",
   "execution_count": 21,
   "id": "7cb9fe22",
   "metadata": {},
   "outputs": [
    {
     "data": {
      "text/html": [
       "<div>\n",
       "<style scoped>\n",
       "    .dataframe tbody tr th:only-of-type {\n",
       "        vertical-align: middle;\n",
       "    }\n",
       "\n",
       "    .dataframe tbody tr th {\n",
       "        vertical-align: top;\n",
       "    }\n",
       "\n",
       "    .dataframe thead th {\n",
       "        text-align: right;\n",
       "    }\n",
       "</style>\n",
       "<table border=\"1\" class=\"dataframe\">\n",
       "  <thead>\n",
       "    <tr style=\"text-align: right;\">\n",
       "      <th></th>\n",
       "      <th>ID</th>\n",
       "      <th>TITLE</th>\n",
       "      <th>ABSTRACT</th>\n",
       "      <th>Computer Science</th>\n",
       "      <th>Physics</th>\n",
       "      <th>Mathematics</th>\n",
       "      <th>Statistics</th>\n",
       "      <th>Quantitative Biology</th>\n",
       "      <th>Quantitative Finance</th>\n",
       "      <th>title_abstract</th>\n",
       "      <th>wps</th>\n",
       "    </tr>\n",
       "  </thead>\n",
       "  <tbody>\n",
       "    <tr>\n",
       "      <th>0</th>\n",
       "      <td>1</td>\n",
       "      <td>Reconstructing Subject-Specific Effect Maps</td>\n",
       "      <td>Predictive models allow subject-specific inf...</td>\n",
       "      <td>1</td>\n",
       "      <td>0</td>\n",
       "      <td>0</td>\n",
       "      <td>0</td>\n",
       "      <td>0</td>\n",
       "      <td>0</td>\n",
       "      <td>Reconstructing Subject-Specific Effect Maps  P...</td>\n",
       "      <td>287</td>\n",
       "    </tr>\n",
       "    <tr>\n",
       "      <th>1</th>\n",
       "      <td>2</td>\n",
       "      <td>Rotation Invariance Neural Network</td>\n",
       "      <td>Rotation invariance and translation invarian...</td>\n",
       "      <td>1</td>\n",
       "      <td>0</td>\n",
       "      <td>0</td>\n",
       "      <td>0</td>\n",
       "      <td>0</td>\n",
       "      <td>0</td>\n",
       "      <td>Rotation Invariance Neural Network  Rotation i...</td>\n",
       "      <td>84</td>\n",
       "    </tr>\n",
       "    <tr>\n",
       "      <th>2</th>\n",
       "      <td>3</td>\n",
       "      <td>Spherical polyharmonics and Poisson kernels fo...</td>\n",
       "      <td>We introduce and develop the notion of spher...</td>\n",
       "      <td>0</td>\n",
       "      <td>0</td>\n",
       "      <td>1</td>\n",
       "      <td>0</td>\n",
       "      <td>0</td>\n",
       "      <td>0</td>\n",
       "      <td>Spherical polyharmonics and Poisson kernels fo...</td>\n",
       "      <td>108</td>\n",
       "    </tr>\n",
       "  </tbody>\n",
       "</table>\n",
       "</div>"
      ],
      "text/plain": [
       "   ID                                              TITLE  \\\n",
       "0   1        Reconstructing Subject-Specific Effect Maps   \n",
       "1   2                 Rotation Invariance Neural Network   \n",
       "2   3  Spherical polyharmonics and Poisson kernels fo...   \n",
       "\n",
       "                                            ABSTRACT  Computer Science  \\\n",
       "0    Predictive models allow subject-specific inf...                 1   \n",
       "1    Rotation invariance and translation invarian...                 1   \n",
       "2    We introduce and develop the notion of spher...                 0   \n",
       "\n",
       "   Physics  Mathematics  Statistics  Quantitative Biology  \\\n",
       "0        0            0           0                     0   \n",
       "1        0            0           0                     0   \n",
       "2        0            1           0                     0   \n",
       "\n",
       "   Quantitative Finance                                     title_abstract  \\\n",
       "0                     0  Reconstructing Subject-Specific Effect Maps  P...   \n",
       "1                     0  Rotation Invariance Neural Network  Rotation i...   \n",
       "2                     0  Spherical polyharmonics and Poisson kernels fo...   \n",
       "\n",
       "   wps  \n",
       "0  287  \n",
       "1   84  \n",
       "2  108  "
      ]
     },
     "execution_count": 21,
     "metadata": {},
     "output_type": "execute_result"
    }
   ],
   "source": [
    "train_df.head(3)"
   ]
  },
  {
   "cell_type": "code",
   "execution_count": 22,
   "id": "36418243",
   "metadata": {},
   "outputs": [
    {
     "data": {
      "text/html": [
       "<div>\n",
       "<style scoped>\n",
       "    .dataframe tbody tr th:only-of-type {\n",
       "        vertical-align: middle;\n",
       "    }\n",
       "\n",
       "    .dataframe tbody tr th {\n",
       "        vertical-align: top;\n",
       "    }\n",
       "\n",
       "    .dataframe thead th {\n",
       "        text-align: right;\n",
       "    }\n",
       "</style>\n",
       "<table border=\"1\" class=\"dataframe\">\n",
       "  <thead>\n",
       "    <tr style=\"text-align: right;\">\n",
       "      <th></th>\n",
       "      <th>ID</th>\n",
       "      <th>TITLE</th>\n",
       "      <th>ABSTRACT</th>\n",
       "      <th>title_abstract</th>\n",
       "      <th>wps</th>\n",
       "    </tr>\n",
       "  </thead>\n",
       "  <tbody>\n",
       "    <tr>\n",
       "      <th>0</th>\n",
       "      <td>20973</td>\n",
       "      <td>Closed-form Marginal Likelihood in Gamma-Poiss...</td>\n",
       "      <td>We present novel understandings of the Gamma...</td>\n",
       "      <td>Closed-form Marginal Likelihood in Gamma-Poiss...</td>\n",
       "      <td>110</td>\n",
       "    </tr>\n",
       "    <tr>\n",
       "      <th>1</th>\n",
       "      <td>20974</td>\n",
       "      <td>Laboratory mid-IR spectra of equilibrated and ...</td>\n",
       "      <td>Meteorites contain minerals from Solar Syste...</td>\n",
       "      <td>Laboratory mid-IR spectra of equilibrated and ...</td>\n",
       "      <td>155</td>\n",
       "    </tr>\n",
       "    <tr>\n",
       "      <th>2</th>\n",
       "      <td>20975</td>\n",
       "      <td>Case For Static AMSDU Aggregation in WLANs</td>\n",
       "      <td>Frame aggregation is a mechanism by which mu...</td>\n",
       "      <td>Case For Static AMSDU Aggregation in WLANs  Fr...</td>\n",
       "      <td>134</td>\n",
       "    </tr>\n",
       "  </tbody>\n",
       "</table>\n",
       "</div>"
      ],
      "text/plain": [
       "      ID                                              TITLE  \\\n",
       "0  20973  Closed-form Marginal Likelihood in Gamma-Poiss...   \n",
       "1  20974  Laboratory mid-IR spectra of equilibrated and ...   \n",
       "2  20975         Case For Static AMSDU Aggregation in WLANs   \n",
       "\n",
       "                                            ABSTRACT  \\\n",
       "0    We present novel understandings of the Gamma...   \n",
       "1    Meteorites contain minerals from Solar Syste...   \n",
       "2    Frame aggregation is a mechanism by which mu...   \n",
       "\n",
       "                                      title_abstract  wps  \n",
       "0  Closed-form Marginal Likelihood in Gamma-Poiss...  110  \n",
       "1  Laboratory mid-IR spectra of equilibrated and ...  155  \n",
       "2  Case For Static AMSDU Aggregation in WLANs  Fr...  134  "
      ]
     },
     "execution_count": 22,
     "metadata": {},
     "output_type": "execute_result"
    }
   ],
   "source": [
    "test_df.head(3)"
   ]
  },
  {
   "cell_type": "markdown",
   "id": "094e73c4",
   "metadata": {},
   "source": [
    "There are around 160 or so words per sample, with the samples being the combination of the title and the abstract. As expected, the samples themselves are fairly small, but we may assume that a well-written title and abstract should summarize the key points of a paper well."
   ]
  },
  {
   "cell_type": "code",
   "execution_count": 23,
   "id": "bd7b91de",
   "metadata": {},
   "outputs": [
    {
     "data": {
      "text/plain": [
       "count    20972.000000\n",
       "mean       165.534284\n",
       "std         64.414866\n",
       "min          5.000000\n",
       "25%        119.000000\n",
       "50%        161.000000\n",
       "75%        208.000000\n",
       "max        467.000000\n",
       "Name: wps, dtype: float64"
      ]
     },
     "execution_count": 23,
     "metadata": {},
     "output_type": "execute_result"
    }
   ],
   "source": [
    "train_df['wps'].describe()"
   ]
  },
  {
   "cell_type": "code",
   "execution_count": 24,
   "id": "7468f75c",
   "metadata": {},
   "outputs": [
    {
     "data": {
      "image/png": "[encoded data removed]",
      "text/plain": [
       "<Figure size 640x480 with 1 Axes>"
      ]
     },
     "metadata": {},
     "output_type": "display_data"
    }
   ],
   "source": [
    "_ = plt.title(\"Distribution of words per article\")\n",
    "_ = plt.hist(train_df['wps'], bins=int(np.ceil(np.log2(len(train_df['wps']))) + 1))"
   ]
  },
  {
   "cell_type": "code",
   "execution_count": 25,
   "id": "296446ff",
   "metadata": {},
   "outputs": [
    {
     "name": "stdout",
     "output_type": "stream",
     "text": [
      "170.0 median words in Computer Science articles\n",
      "173.0 median words in Physics articles\n",
      "121.0 median words in Mathematics articles\n",
      "166.0 median words in Statistics articles\n",
      "193.0 median words in Quantitative Biology articles\n",
      "147.0 median words in Quantitative Finance articles\n"
     ]
    },
    {
     "data": {
      "image/png": "[encoded data removed]",
      "text/plain": [
       "<Figure size 1500x500 with 1 Axes>"
      ]
     },
     "metadata": {},
     "output_type": "display_data"
    }
   ],
   "source": [
    "wps_med = []\n",
    "for label in labels:\n",
    "    lmed = train_df[train_df[label] == 1]['wps'].median()\n",
    "    print(\"{} median words in {} articles\".format(lmed, label))\n",
    "    wps_med.append(lmed)\n",
    "\n",
    "_ = plt.figure(figsize=(15,5))\n",
    "_ = plt.title(\"Median words per topic\")\n",
    "_ = plt.bar(labels, wps_med)"
   ]
  },
  {
   "cell_type": "markdown",
   "id": "6b33a198",
   "metadata": {},
   "source": [
    "## 6 Cleaning and Preprocessing the Text"
   ]
  },
  {
   "cell_type": "markdown",
   "id": "0b7053ab",
   "metadata": {},
   "source": [
    "The method, [`gensim.utils.simple_preprocess`](https://radimrehurek.com/gensim/utils.html#gensim.utils.simple_preprocess), can be used to convert a document into a list of lowercase tokens. We will remove stopwords, for which we will use [`nltk.corpus`](https://www.nltk.org/api/nltk.corpus.html#module-nltk.corpus)'s `stopwords`, and we will lemmatize the tokens to group inflected words with [`nltk.stem.WordNetLemmatizer()`](https://www.nltk.org/_modules/nltk/stem/wordnet.html)."
   ]
  },
  {
   "cell_type": "code",
   "execution_count": 27,
   "id": "eebfb779",
   "metadata": {},
   "outputs": [],
   "source": [
    "wordnet_lemmatizer = WordNetLemmatizer()\n",
    "\n",
    "def preprocess(doc):\n",
    "    \"\"\"\n",
    "    Converts a single document into a list of tokens.\n",
    "    \n",
    "    doc : A document of text (strings)\n",
    "    \"\"\"\n",
    "    # Convert to a list of lowercase tokens\n",
    "    tokens = simple_preprocess(doc, deacc=True)\n",
    "    # Remove stopwords\n",
    "    no_stops = [t for t in tokens if t not in stopwords.words('english')]\n",
    "    # Lemmatize tokens\n",
    "    lemma_tokens = [wordnet_lemmatizer.lemmatize(t) for t in no_stops]\n",
    "    return lemma_tokens"
   ]
  },
  {
   "cell_type": "code",
   "execution_count": 28,
   "id": "93a9732a",
   "metadata": {
    "scrolled": false
   },
   "outputs": [],
   "source": [
    "## This can take 10-15 min, so commented out\n",
    "#time_start = time.time()\n",
    "#train_df['text'] = train_df.apply(lambda x: preprocess(x['title_abstract']), axis=1)\n",
    "#time_end = time.time()\n",
    "#time_elapsed = time_end - time_start\n",
    "#print(\"Time elapsed for text preprocessing on Training Set: {} sec\".format(time_elapsed))"
   ]
  },
  {
   "cell_type": "code",
   "execution_count": 29,
   "id": "fd94bcea",
   "metadata": {},
   "outputs": [],
   "source": [
    "## This can take ~5 min, so commented out\n",
    "#time_start = time.time()\n",
    "#test_df['text'] = test_df.apply(lambda x: preprocess(x['title_abstract']), axis=1)\n",
    "#time_end = time.time()\n",
    "#time_elapsed = time_end - time_start\n",
    "#print(\"Time elapsed for text preprocessing on Test Set: {} sec\".format(time_elapsed))"
   ]
  },
  {
   "cell_type": "code",
   "execution_count": 30,
   "id": "9da0c23e",
   "metadata": {},
   "outputs": [],
   "source": [
    "#train_df.to_pickle(\"../data/interim/1-0_train_clean.pkl\")\n",
    "#test_df.to_pickle(\"../data/interim/1-0_test_clean.pkl\")"
   ]
  },
  {
   "cell_type": "code",
   "execution_count": 31,
   "id": "07d98e12",
   "metadata": {},
   "outputs": [],
   "source": [
    "train_df_clean = pd.read_pickle(\"../data/interim/1-0_train_clean.pkl\")\n",
    "test_df_clean = pd.read_pickle(\"../data/interim/1-0_test_clean.pkl\")"
   ]
  },
  {
   "cell_type": "code",
   "execution_count": 32,
   "id": "8031ea87",
   "metadata": {},
   "outputs": [
    {
     "data": {
      "text/plain": [
       "4465    [preparation, measurement, quantum, memory, mo...\n",
       "Name: text, dtype: object"
      ]
     },
     "execution_count": 32,
     "metadata": {},
     "output_type": "execute_result"
    }
   ],
   "source": [
    "train_df_clean.sample(1)['text']"
   ]
  },
  {
   "cell_type": "code",
   "execution_count": 33,
   "id": "0fd74fbc",
   "metadata": {
    "scrolled": true
   },
   "outputs": [],
   "source": [
    "#train_df_clean['text'][0]"
   ]
  },
  {
   "cell_type": "markdown",
   "id": "16693129",
   "metadata": {},
   "source": [
    "### 6.1 Common Words"
   ]
  },
  {
   "cell_type": "markdown",
   "id": "d16414c9",
   "metadata": {},
   "source": [
    "Now that the words have been normalized and tokenized, we can look at the word counts."
   ]
  },
  {
   "cell_type": "code",
   "execution_count": 34,
   "id": "4b7a61ae",
   "metadata": {},
   "outputs": [],
   "source": [
    "def get_top_n(text_series, n=10):\n",
    "    \"\"\"\n",
    "    Counts the top n most common tokens and returns them as a dictionary.\n",
    "    \n",
    "    text_series : A series of tokens to count.\n",
    "    n : The number of most common tokens to return.\n",
    "    \"\"\"\n",
    "    token_counter = Counter()\n",
    "    for x in text_series:\n",
    "        token_counter.update(x)\n",
    "    top_n_tokens_dict = dict(token_counter.most_common(n))\n",
    "    \n",
    "    return top_n_tokens_dict"
   ]
  },
  {
   "cell_type": "code",
   "execution_count": 35,
   "id": "58ee3b27",
   "metadata": {},
   "outputs": [
    {
     "name": "stdout",
     "output_type": "stream",
     "text": [
      "{'model': 18006, 'data': 12021, 'method': 11825, 'network': 11474, 'system': 10207, 'result': 9824, 'problem': 9576, 'based': 9493, 'time': 9271, 'show': 8846}\n"
     ]
    },
    {
     "data": {
      "image/png": "[encoded data removed]",
      "text/plain": [
       "<Figure size 1500x500 with 1 Axes>"
      ]
     },
     "metadata": {},
     "output_type": "display_data"
    }
   ],
   "source": [
    "train_top10 = get_top_n(train_df_clean['text'], n=10)\n",
    "\n",
    "print(train_top10)\n",
    "\n",
    "_ = plt.figure(figsize=(15,5))\n",
    "_ = plt.title(\"10 most common tokens from train.csv\")\n",
    "_ = plt.bar(train_top10.keys(), train_top10.values())"
   ]
  },
  {
   "cell_type": "code",
   "execution_count": 36,
   "id": "0283ebcf",
   "metadata": {},
   "outputs": [
    {
     "name": "stdout",
     "output_type": "stream",
     "text": [
      "{'model': 7793, 'data': 5051, 'network': 4975, 'method': 4800, 'system': 4410, 'result': 4180, 'based': 3998, 'problem': 3957, 'time': 3894, 'using': 3811}\n"
     ]
    },
    {
     "data": {
      "image/png": "[encoded data removed]",
      "text/plain": [
       "<Figure size 1500x500 with 1 Axes>"
      ]
     },
     "metadata": {},
     "output_type": "display_data"
    }
   ],
   "source": [
    "test_top10 = get_top_n(test_df_clean['text'], n=10)\n",
    "\n",
    "print(test_top10)\n",
    "\n",
    "_ = plt.figure(figsize=(15,5))\n",
    "_ = plt.title(\"10 most common tokens from test.csv\")\n",
    "_ = plt.bar(test_top10.keys(), test_top10.values())"
   ]
  },
  {
   "cell_type": "markdown",
   "id": "2263f415",
   "metadata": {},
   "source": [
    "Between the \"train.csv\" and \"test.csv\", the top ten most commmonly used words were similar. Next we will check the top five words per topic."
   ]
  },
  {
   "cell_type": "code",
   "execution_count": 37,
   "id": "1b273a8b",
   "metadata": {
    "scrolled": false
   },
   "outputs": [
    {
     "name": "stdout",
     "output_type": "stream",
     "text": [
      "Computer Science: {'model': 8485, 'network': 8420, 'data': 6830, 'method': 6338, 'algorithm': 6219}\n",
      "Physics: {'model': 4512, 'system': 3514, 'field': 3054, 'time': 2866, 'two': 2743}\n",
      "Mathematics: {'problem': 2935, 'result': 2762, 'function': 2638, 'model': 2466, 'space': 2221}\n",
      "Statistics: {'model': 7483, 'data': 5888, 'learning': 5113, 'method': 5107, 'network': 4771}\n",
      "Quantitative Biology: {'model': 811, 'network': 761, 'data': 464, 'method': 392, 'cell': 364}\n",
      "Quantitative Finance: {'model': 459, 'market': 285, 'price': 218, 'time': 187, 'risk': 158}\n"
     ]
    }
   ],
   "source": [
    "label_top5 = []\n",
    "for label in labels:\n",
    "    top5 = get_top_n(train_df_clean[train_df[label] == 1]['text'], n=5)\n",
    "    label_top5.append(top5)\n",
    "    print(\"{}: {}\".format(label, top5))"
   ]
  },
  {
   "cell_type": "code",
   "execution_count": 38,
   "id": "e4759700",
   "metadata": {},
   "outputs": [
    {
     "data": {
      "image/png": "[encoded data removed]",
      "text/plain": [
       "<Figure size 900x900 with 6 Axes>"
      ]
     },
     "metadata": {},
     "output_type": "display_data"
    }
   ],
   "source": [
    "fig, axs = plt.subplots(3, 2, figsize=(9,9), gridspec_kw={'hspace':0.3})\n",
    "\n",
    "i = 0\n",
    "for row in range(0,3):\n",
    "    for col in range(0,2):\n",
    "        _ = axs[row, col].set_title(labels[i])\n",
    "        _ = axs[row, col].bar(label_top5[i].keys(), label_top5[i].values())\n",
    "        i += 1"
   ]
  },
  {
   "cell_type": "markdown",
   "id": "e5b9b32e",
   "metadata": {},
   "source": [
    "These word counts are from plain bag-of-words, without too much thought about which words are retained. A lot of these words are clearly generic \"science article\" words, so showing the most common words by topic is not so unique to or descriptive of a topic. These generic terms can be likened to stopwords specific to this problem space. However, there is a little bit of expression present even in this sort of basic counter: in each topic, there are 2-4 unique words."
   ]
  },
  {
   "cell_type": "markdown",
   "id": "448490e2",
   "metadata": {},
   "source": [
    "## Conclusion\n",
    "TODO: Formatting"
   ]
  },
  {
   "cell_type": "markdown",
   "id": "9f2fcdb4",
   "metadata": {},
   "source": [
    "TODO"
   ]
  },
  {
   "cell_type": "markdown",
   "id": "d45de241",
   "metadata": {},
   "source": [
    "### Save Files?"
   ]
  },
  {
   "cell_type": "markdown",
   "id": "d1c5223d",
   "metadata": {},
   "source": [
    "TODO"
   ]
  }
 ],
 "metadata": {
  "kernelspec": {
   "display_name": "Python 3 (ipykernel)",
   "language": "python",
   "name": "python3"
  },
  "language_info": {
   "codemirror_mode": {
    "name": "ipython",
    "version": 3
   },
   "file_extension": ".py",
   "mimetype": "text/x-python",
   "name": "python",
   "nbconvert_exporter": "python",
   "pygments_lexer": "ipython3",
   "version": "3.9.13"
  },
  "toc": {
   "base_numbering": 1,
   "nav_menu": {},
   "number_sections": false,
   "sideBar": true,
   "skip_h1_title": false,
   "title_cell": "Table of Contents",
   "title_sidebar": "Contents",
   "toc_cell": false,
   "toc_position": {
    "height": "calc(100% - 180px)",
    "left": "10px",
    "top": "150px",
    "width": "340.391px"
   },
   "toc_section_display": true,
   "toc_window_display": true
  }
 },
 "nbformat": 4,
 "nbformat_minor": 5
}
